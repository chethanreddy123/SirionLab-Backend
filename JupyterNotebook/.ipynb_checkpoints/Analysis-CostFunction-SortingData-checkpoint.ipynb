{
 "cells": [
  {
   "cell_type": "markdown",
   "id": "a700780e",
   "metadata": {},
   "source": [
    "## Let's Load the Data"
   ]
  },
  {
   "cell_type": "code",
   "execution_count": 10,
   "id": "2e596f9c",
   "metadata": {},
   "outputs": [
    {
     "name": "stdout",
     "output_type": "stream",
     "text": [
      "The total time to load data is:(sec) 13.240299224853516\n"
     ]
    }
   ],
   "source": [
    "import pickle\n",
    "import time \n",
    "\n",
    "start = time.time()\n",
    "\n",
    "Loaded_Content = []\n",
    "\n",
    "for i in range(1,22):\n",
    "    with open('Final_Data_of_Supplier{}.pkl'.format(i), 'rb') as pickle_file:\n",
    "        content = pickle.load(pickle_file)\n",
    "        Loaded_Content.extend(content)\n",
    "    \n",
    "end = time.time()\n",
    "print(\"The total time to load data is:(sec)\",end-start)"
   ]
  },
  {
   "cell_type": "code",
   "execution_count": 11,
   "id": "3b7c3b82",
   "metadata": {},
   "outputs": [
    {
     "name": "stdout",
     "output_type": "stream",
     "text": [
      "Total Lenght:  6947748\n",
      "[{'SupplierName': 'spectrum polymers ltd', 'Region': 'Central America', 'Country': 'Panama', 'Function': 'Applications Development', 'AvgCost': 50, 'Rating': 60, 'AverageDeliveryTime': 540, 'NumberofEscalations': 260, 'Year': 2014, 'Resources': 5000}, {'SupplierName': 'probation board for northern ireland', 'Region': 'Caribbean', 'Country': 'Guadeloupe', 'Function': 'Consulting', 'AvgCost': 400, 'Rating': 20, 'AverageDeliveryTime': 510, 'NumberofEscalations': 20, 'Year': 2014, 'Resources': 2000}, {'SupplierName': 'evolution of search', 'Region': 'North America', 'Country': 'United States', 'Function': 'Consulting', 'AvgCost': 400, 'Rating': 50, 'AverageDeliveryTime': 240, 'NumberofEscalations': 65, 'Year': 2014, 'Resources': 5000}, {'SupplierName': 'jenny macklin mp', 'Region': 'South America', 'Country': 'Colombia', 'Function': 'Consulting', 'AvgCost': 150, 'Rating': 60, 'AverageDeliveryTime': 110, 'NumberofEscalations': 345, 'Year': 2014, 'Resources': 2000}, {'SupplierName': 'polar electronic industries pty ltd', 'Region': 'Caribbean', 'Country': 'Aruba', 'Function': 'HR', 'AvgCost': 450, 'Rating': 50, 'AverageDeliveryTime': 860, 'NumberofEscalations': 255, 'Year': 2014, 'Resources': 7000}, {'SupplierName': 'i3 resourcing', 'Region': 'Africa', 'Country': \"Cote d'Ivoire\", 'Function': 'Insurance', 'AvgCost': 200, 'Rating': 70, 'AverageDeliveryTime': 540, 'NumberofEscalations': 120, 'Year': 2014, 'Resources': 9000}, {'SupplierName': 'blueprint employment and training inc', 'Region': 'Asia', 'Country': 'Uzbekistan', 'Function': 'Marketing', 'AvgCost': 450, 'Rating': 70, 'AverageDeliveryTime': 320, 'NumberofEscalations': 260, 'Year': 2014, 'Resources': 9000}, {'SupplierName': 'maiden marketing and communications limited', 'Region': 'Caribbean', 'Country': 'Barbados', 'Function': 'HR', 'AvgCost': 450, 'Rating': 50, 'AverageDeliveryTime': 520, 'NumberofEscalations': 390, 'Year': 2014, 'Resources': 8000}, {'SupplierName': 'london wall partners llp', 'Region': 'North America', 'Country': 'Central America', 'Function': 'Finance', 'AvgCost': 350, 'Rating': 50, 'AverageDeliveryTime': 880, 'NumberofEscalations': 380, 'Year': 2014, 'Resources': 9000}, {'SupplierName': 'parkers jewellers', 'Region': 'Central America', 'Country': 'Panama', 'Function': 'IT & Infrastructure', 'AvgCost': 150, 'Rating': 90, 'AverageDeliveryTime': 170, 'NumberofEscalations': 385, 'Year': 2014, 'Resources': 7000}]\n"
     ]
    }
   ],
   "source": [
    "print(\"Total Lenght: \", len(Loaded_Content))\n",
    "print()\n",
    "Loaded_Content[0:10]"
   ]
  },
  {
   "cell_type": "markdown",
   "id": "a3d51967",
   "metadata": {},
   "source": [
    "## Statistical Analysis of Supplier - data"
   ]
  },
  {
   "cell_type": "code",
   "execution_count": 12,
   "id": "cacbc8db",
   "metadata": {},
   "outputs": [],
   "source": [
    "import math\n",
    "import statistics\n",
    "\n",
    "List_Avg = [Supplier['AvgCost'] for Supplier in Loaded_Content]\n",
    "List_NoE = [Supplier['NumberofEscalations'] for Supplier in Loaded_Content]\n",
    "List_Rat = [Supplier['Rating'] for Supplier in Loaded_Content]\n",
    "List_Res = [Supplier['Resources'] for Supplier in Loaded_Content]\n",
    "List_Agt = [Supplier['AverageDeliveryTime'] for Supplier in Loaded_Content]\n",
    "\n",
    "\n",
    "m_Avg , std_Avg = statistics.mean(List_Avg) , statistics.stdev(List_Avg)\n",
    "m_NoE, std_NoE = statistics.mean(List_NoE) , statistics.stdev(List_NoE)\n",
    "m_Rat , std_Rat = statistics.mean(List_Rat) , statistics.stdev(List_Rat)\n",
    "m_Res , std_Res = statistics.mean(List_Res) , statistics.stdev(List_Res)\n",
    "m_Agt , std_Agt = statistics.mean(List_Agt) , statistics.stdev(List_Agt)"
   ]
  },
  {
   "cell_type": "markdown",
   "id": "b49db5fd",
   "metadata": {},
   "source": [
    "## Creating the Cost Function -- *heart of the algo*\n",
    "###### Significance of Mean and Starddeviation in the cost function: The mean shows the location of the center of the data and the standard deviation is the spread in the data. The application of the normal distribution comes from assessing data points in terms of the standard deviation."
   ]
  },
  {
   "cell_type": "code",
   "execution_count": 30,
   "id": "1967f5d4",
   "metadata": {},
   "outputs": [],
   "source": [
    "import math\n",
    "\n",
    "def sigmoid(x):\n",
    "    return 1/(1 + math.exp(-x))\n",
    "\n",
    "def Cost(DataStructure):\n",
    "    # all the attibutes are glabal\n",
    "    Numerator1 =  (std_Res * (DataStructure['Resources'] - m_Res))\n",
    "    Numerator2 = (std_Rat * (DataStructure['Rating'] - m_Rat))\n",
    "    Numerator3 = (std_NoE * (DataStructure['NumberofEscalations']) - m_NoE)\n",
    "    \n",
    "    Denominator1 = (sigmoid(std_Agt) * (DataStructure['AverageDeliveryTime'] - m_Agt))\n",
    "    Denominator2 = (sigmoid(std_Avg) * (DataStructure['AvgCost'] - m_Avg))\n",
    "    \n",
    "    Final_Cost = (Numerator1 + Numerator2 + Numerator3) - (Denominator1 + Denominator2)\n",
    "    \n",
    "    return Final_Cost"
   ]
  },
  {
   "cell_type": "markdown",
   "id": "c4c922b4",
   "metadata": {},
   "source": [
    "## Bi-Linear-Search for Cleaning Data:"
   ]
  },
  {
   "cell_type": "code",
   "execution_count": 35,
   "id": "3ec7d61f",
   "metadata": {
    "scrolled": true
   },
   "outputs": [
    {
     "name": "stdout",
     "output_type": "stream",
     "text": [
      "Total Time for cleaning: 2.0128495693206787\n"
     ]
    }
   ],
   "source": [
    "L = ['SupplierName', 'Region', 'Country', 'Function', 'AvgCost', 'Rating', 'AverageDeliveryTime', \n",
    " 'NumberofEscalations', 'Year', 'Resources']\n",
    "\n",
    "def Check(DataStructure):\n",
    "    for key in L:\n",
    "        if key not in DataStructure:\n",
    "            return False\n",
    "    return True\n",
    "\n",
    "import time \n",
    "\n",
    "start = time.time()\n",
    "\n",
    "Iter = len(Loaded_Content)//2\n",
    "\n",
    "for i in range(Iter):\n",
    "    left = Loaded_Content[Iter]\n",
    "    right = Loaded_Content[Iter + i]\n",
    "    # checking if both right and left are valid or not \n",
    "    # based on it we can remove the data\n",
    "\n",
    "end = time.time()\n",
    "\n",
    "print(\"Total Time for cleaning:\",end - start)"
   ]
  },
  {
   "cell_type": "markdown",
   "id": "83bd4a06",
   "metadata": {},
   "source": [
    "## Testing the Cost Function"
   ]
  },
  {
   "cell_type": "code",
   "execution_count": 34,
   "id": "668f431b",
   "metadata": {},
   "outputs": [
    {
     "name": "stdout",
     "output_type": "stream",
     "text": [
      "dict_keys(['SupplierName', 'Region', 'Country', 'Function', 'AvgCost', 'Rating', 'AverageDeliveryTime', 'NumberofEscalations', 'Year', 'Resources'])\n"
     ]
    }
   ],
   "source": [
    "print(Loaded_Content[0].keys())"
   ]
  },
  {
   "cell_type": "code",
   "execution_count": 33,
   "id": "bd12c3ad",
   "metadata": {
    "scrolled": true
   },
   "outputs": [
    {
     "name": "stdout",
     "output_type": "stream",
     "text": [
      "{'SupplierName': 'spectrum polymers ltd', 'Region': 'Central America', 'Country': 'Panama', 'Function': 'Applications Development', 'AvgCost': 50, 'Rating': 60, 'AverageDeliveryTime': 540, 'NumberofEscalations': 260, 'Year': 2014, 'Resources': 5000}\n"
     ]
    },
    {
     "data": {
      "text/plain": [
       "39168.39957698733"
      ]
     },
     "execution_count": 33,
     "metadata": {},
     "output_type": "execute_result"
    }
   ],
   "source": [
    "print(Loaded_Content[0])\n",
    "Cost(Loaded_Content[0])"
   ]
  },
  {
   "cell_type": "code",
   "execution_count": 32,
   "id": "adfd85ed",
   "metadata": {},
   "outputs": [
    {
     "name": "stdout",
     "output_type": "stream",
     "text": [
      "{'SupplierName': 'evolution of search', 'Region': 'North America', 'Country': 'United States', 'Function': 'Consulting', 'AvgCost': 400, 'Rating': 50, 'AverageDeliveryTime': 240, 'NumberofEscalations': 65, 'Year': 2014, 'Resources': 5000}\n"
     ]
    },
    {
     "data": {
      "text/plain": [
       "10999.65618618173"
      ]
     },
     "execution_count": 32,
     "metadata": {},
     "output_type": "execute_result"
    }
   ],
   "source": [
    "print(Loaded_Content[2])\n",
    "Cost(Loaded_Content[2])"
   ]
  },
  {
   "cell_type": "code",
   "execution_count": 37,
   "id": "8553efc1",
   "metadata": {},
   "outputs": [
    {
     "name": "stdout",
     "output_type": "stream",
     "text": [
      "Done!!\n"
     ]
    }
   ],
   "source": [
    "# applying the Cost Fucntion for every single data point\n",
    "\n",
    "Length = len(Loaded_Content)\n",
    "\n",
    "for i in range(Length):\n",
    "    Loaded_Content[i]['Cost'] = Cost(Loaded_Content[i])\n",
    "print(\"Done!!\")"
   ]
  },
  {
   "cell_type": "markdown",
   "id": "01add507",
   "metadata": {},
   "source": [
    "#### Sorted Function - TimSort\n",
    "###### Python uses an algorithm called Timsort: Timsort is a hybrid sorting algorithm, derived from merge sort and insertion sort, designed to perform well on many kinds of real-world data. It was invented by Tim Peters in 2002 for use in the Python programming language."
   ]
  },
  {
   "cell_type": "code",
   "execution_count": 38,
   "id": "d88f85fd",
   "metadata": {},
   "outputs": [
    {
     "name": "stdout",
     "output_type": "stream",
     "text": [
      "Done!!\n"
     ]
    }
   ],
   "source": [
    "Sorted_Content = sorted(Loaded_Content , key = lambda k : k['Cost'] , reverse = True)\n",
    "print(\"Done!!\")"
   ]
  },
  {
   "cell_type": "code",
   "execution_count": 40,
   "id": "58f1f243",
   "metadata": {},
   "outputs": [
    {
     "data": {
      "text/plain": [
       "[{'SupplierName': 'mayuresh gears pvt ltd',\n",
       "  'Region': 'Europe',\n",
       "  'Country': 'Italy',\n",
       "  'Function': 'Finance',\n",
       "  'AvgCost': 50,\n",
       "  'Rating': 90,\n",
       "  'AverageDeliveryTime': 100,\n",
       "  'NumberofEscalations': 495,\n",
       "  'Year': 2015,\n",
       "  'Resources': 9000,\n",
       "  'Cost': 10401986.77325441},\n",
       " {'SupplierName': 'ddc architects',\n",
       "  'Region': 'Africa',\n",
       "  'Country': 'Burundi',\n",
       "  'Function': 'Applications Development',\n",
       "  'AvgCost': 50,\n",
       "  'Rating': 90,\n",
       "  'AverageDeliveryTime': 100,\n",
       "  'NumberofEscalations': 495,\n",
       "  'Year': 2017,\n",
       "  'Resources': 9000,\n",
       "  'Cost': 10401986.77325441},\n",
       " {'SupplierName': 'polar blue photography',\n",
       "  'Region': 'Asia',\n",
       "  'Country': 'United Arab Emirates',\n",
       "  'Function': 'IT & Infrastructure',\n",
       "  'AvgCost': 50,\n",
       "  'Rating': 90,\n",
       "  'AverageDeliveryTime': 110,\n",
       "  'NumberofEscalations': 495,\n",
       "  'Year': 2015,\n",
       "  'Resources': 9000,\n",
       "  'Cost': 10401976.77325441},\n",
       " {'SupplierName': 'shakespeare martineau llp',\n",
       "  'Region': 'Europe',\n",
       "  'Country': 'Denmark',\n",
       "  'Function': 'Applications Development',\n",
       "  'AvgCost': 50,\n",
       "  'Rating': 90,\n",
       "  'AverageDeliveryTime': 110,\n",
       "  'NumberofEscalations': 495,\n",
       "  'Year': 2017,\n",
       "  'Resources': 9000,\n",
       "  'Cost': 10401976.77325441},\n",
       " {'SupplierName': 'the hearing clinic (uk) limited',\n",
       "  'Region': 'North America',\n",
       "  'Country': 'Caribbean',\n",
       "  'Function': 'Insurance',\n",
       "  'AvgCost': 50,\n",
       "  'Rating': 90,\n",
       "  'AverageDeliveryTime': 110,\n",
       "  'NumberofEscalations': 495,\n",
       "  'Year': 2020,\n",
       "  'Resources': 9000,\n",
       "  'Cost': 10401976.77325441},\n",
       " {'SupplierName': 'talent & beyond',\n",
       "  'Region': 'Central America',\n",
       "  'Country': 'Nicaragua',\n",
       "  'Function': 'Finance',\n",
       "  'AvgCost': 50,\n",
       "  'Rating': 90,\n",
       "  'AverageDeliveryTime': 120,\n",
       "  'NumberofEscalations': 495,\n",
       "  'Year': 2019,\n",
       "  'Resources': 9000,\n",
       "  'Cost': 10401966.77325441},\n",
       " {'SupplierName': 'tidy numbers accountancy services',\n",
       "  'Region': 'Caribbean',\n",
       "  'Country': 'Dominican Republic',\n",
       "  'Function': 'IT & Infrastructure',\n",
       "  'AvgCost': 50,\n",
       "  'Rating': 90,\n",
       "  'AverageDeliveryTime': 120,\n",
       "  'NumberofEscalations': 495,\n",
       "  'Year': 2020,\n",
       "  'Resources': 9000,\n",
       "  'Cost': 10401966.77325441},\n",
       " {'SupplierName': 'micronizing company uk ltd',\n",
       "  'Region': 'Asia',\n",
       "  'Country': 'Nepal',\n",
       "  'Function': 'Applications Development',\n",
       "  'AvgCost': 50,\n",
       "  'Rating': 90,\n",
       "  'AverageDeliveryTime': 120,\n",
       "  'NumberofEscalations': 495,\n",
       "  'Year': 2022,\n",
       "  'Resources': 9000,\n",
       "  'Cost': 10401966.77325441},\n",
       " {'SupplierName': 'indian ocean hotel',\n",
       "  'Region': 'Oceania',\n",
       "  'Country': 'Samoa',\n",
       "  'Function': 'Insurance',\n",
       "  'AvgCost': 50,\n",
       "  'Rating': 90,\n",
       "  'AverageDeliveryTime': 150,\n",
       "  'NumberofEscalations': 495,\n",
       "  'Year': 2022,\n",
       "  'Resources': 9000,\n",
       "  'Cost': 10401936.77325441},\n",
       " {'SupplierName': 'mabells petroleum advisors',\n",
       "  'Region': 'South America',\n",
       "  'Country': 'Bolivia',\n",
       "  'Function': 'IT & Infrastructure',\n",
       "  'AvgCost': 50,\n",
       "  'Rating': 90,\n",
       "  'AverageDeliveryTime': 160,\n",
       "  'NumberofEscalations': 495,\n",
       "  'Year': 2022,\n",
       "  'Resources': 9000,\n",
       "  'Cost': 10401926.77325441}]"
      ]
     },
     "execution_count": 40,
     "metadata": {},
     "output_type": "execute_result"
    }
   ],
   "source": [
    "Sorted_Content[0:10]"
   ]
  },
  {
   "cell_type": "markdown",
   "id": "7f001c7e",
   "metadata": {},
   "source": [
    "## Finding the Maximum and Minimum for Cost Functions"
   ]
  },
  {
   "cell_type": "code",
   "execution_count": 44,
   "id": "eb2d6ced",
   "metadata": {},
   "outputs": [
    {
     "data": {
      "text/plain": [
       "(10401986.77325441, -10327433.682112753, 20729420.455367163)"
      ]
     },
     "execution_count": 44,
     "metadata": {},
     "output_type": "execute_result"
    }
   ],
   "source": [
    "OldMax = Sorted_Content[0]['Cost']\n",
    "OldMin = Sorted_Content[len(Sorted_Content) - 1]['Cost']\n",
    "OldRange = OldMax - OldMin\n",
    "\n",
    "OldMax, OldMin, OldRange"
   ]
  },
  {
   "cell_type": "code",
   "execution_count": 46,
   "id": "81f0ed35",
   "metadata": {},
   "outputs": [],
   "source": [
    "NewMax = 1000\n",
    "NewMin = 1\n",
    "\n",
    "NewRange = NewMax - NewMin\n",
    "\n",
    "NewValue =  lambda x : (((x - OldMin) * NewRange) / OldRange) + NewMin"
   ]
  },
  {
   "cell_type": "code",
   "execution_count": 48,
   "id": "ca01ce85",
   "metadata": {},
   "outputs": [
    {
     "data": {
      "text/plain": [
       "499.2330334390848"
      ]
     },
     "execution_count": 48,
     "metadata": {},
     "output_type": "execute_result"
    }
   ],
   "source": [
    "{'SupplierName': 'mayuresh gears pvt ltd',\n",
    "  'Region': 'Europe',\n",
    "  'Country': 'Italy',\n",
    "  'Function': 'Finance',\n",
    "  'AvgCost': 50,\n",
    "  'Rating': 90,\n",
    "  'AverageDeliveryTime': 100,\n",
    "  'NumberofEscalations': 495,\n",
    "  'Year': 2015,\n",
    "  'Resources': 9000,\n",
    "  'Cost': 10401986.77325441},\n",
    "NewValue(10986.77325441)"
   ]
  },
  {
   "cell_type": "markdown",
   "id": "dcbdbbd1",
   "metadata": {},
   "source": [
    "## Changing the Range of the Cost Function:"
   ]
  },
  {
   "cell_type": "code",
   "execution_count": null,
   "id": "f65c91c2",
   "metadata": {},
   "outputs": [],
   "source": [
    "Length = len(Sorted_Content)\n",
    "\n",
    "for i in range(Length):\n",
    "    Sorted_Content[i]['Cost'] = NewValue(Sorted_Content[i]['Cost'])\n",
    "print(\"Done!!\")"
   ]
  },
  {
   "cell_type": "code",
   "execution_count": 50,
   "id": "67cd0d44",
   "metadata": {},
   "outputs": [],
   "source": [
    "No_of_Parts = len(Sorted_Content)//20\n",
    "list_of_lists = [Sorted_Content[i:i+No_of_Parts] for i in range(0, len(Sorted_Content),No_of_Parts)]"
   ]
  },
  {
   "cell_type": "code",
   "execution_count": 51,
   "id": "d5a479f5",
   "metadata": {},
   "outputs": [
    {
     "name": "stdout",
     "output_type": "stream",
     "text": [
      "Lenght of each item in list: 347387\n",
      "Lenght of Overall list: 21\n"
     ]
    }
   ],
   "source": [
    "print(\"Lenght of each item in list:\",len(list_of_lists[0]))\n",
    "print(\"Lenght of Overall list:\",len(list_of_lists))"
   ]
  },
  {
   "cell_type": "code",
   "execution_count": 52,
   "id": "cdb7a9e5",
   "metadata": {},
   "outputs": [],
   "source": [
    "count = 1\n",
    "for eachItem in list_of_lists:\n",
    "    with open(\"CostAddedData/Final_Data_of_Supplier{}.pkl\".format(count) , 'wb') as f:\n",
    "        pickle.dump(eachItem, f)\n",
    "    count += 1"
   ]
  },
  {
   "cell_type": "code",
   "execution_count": null,
   "id": "90f46fe3",
   "metadata": {},
   "outputs": [],
   "source": []
  }
 ],
 "metadata": {
  "kernelspec": {
   "display_name": "Python 3 (ipykernel)",
   "language": "python",
   "name": "python3"
  },
  "language_info": {
   "codemirror_mode": {
    "name": "ipython",
    "version": 3
   },
   "file_extension": ".py",
   "mimetype": "text/x-python",
   "name": "python",
   "nbconvert_exporter": "python",
   "pygments_lexer": "ipython3",
   "version": "3.9.13"
  }
 },
 "nbformat": 4,
 "nbformat_minor": 5
}
