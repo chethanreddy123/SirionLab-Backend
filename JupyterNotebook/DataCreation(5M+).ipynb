{
 "cells": [
  {
   "cell_type": "markdown",
   "id": "127f5174",
   "metadata": {},
   "source": [
    "## Sample Structure of Data"
   ]
  },
  {
   "cell_type": "code",
   "execution_count": null,
   "id": "93a1d1d6",
   "metadata": {},
   "outputs": [],
   "source": [
    "{'Supplier Name': 'Infosys',\n",
    " 'Region': 'APAC',\n",
    " 'Country': 'India',\n",
    " 'Function': 'IT & Infrastructure',\n",
    " 'Service': 'Applications Development',\n",
    " 'Avg. Cost($)': '100k',\n",
    " 'Rating': '90',\n",
    " 'Average Delivery Time': '90',\n",
    " 'Number of Escalations': '5',\n",
    " 'Year': '2018',\n",
    " 'Resources': '10000'}"
   ]
  },
  {
   "cell_type": "markdown",
   "id": "6bcfc3d0",
   "metadata": {},
   "source": [
    "## Merging List of Random Companies"
   ]
  },
  {
   "cell_type": "code",
   "execution_count": 14,
   "id": "d59e89b0",
   "metadata": {},
   "outputs": [
    {
     "data": {
      "text/html": [
       "<div>\n",
       "<style scoped>\n",
       "    .dataframe tbody tr th:only-of-type {\n",
       "        vertical-align: middle;\n",
       "    }\n",
       "\n",
       "    .dataframe tbody tr th {\n",
       "        vertical-align: top;\n",
       "    }\n",
       "\n",
       "    .dataframe thead th {\n",
       "        text-align: right;\n",
       "    }\n",
       "</style>\n",
       "<table border=\"1\" class=\"dataframe\">\n",
       "  <thead>\n",
       "    <tr style=\"text-align: right;\">\n",
       "      <th></th>\n",
       "      <th>Brand</th>\n",
       "      <th>Position</th>\n",
       "      <th>Previous Position</th>\n",
       "      <th>Brand Value ($M)</th>\n",
       "      <th>Previous Brand Value ($M)</th>\n",
       "      <th>Rating</th>\n",
       "      <th>Previous Rating</th>\n",
       "      <th>Year</th>\n",
       "      <th>Previous Year</th>\n",
       "    </tr>\n",
       "  </thead>\n",
       "  <tbody>\n",
       "    <tr>\n",
       "      <th>0</th>\n",
       "      <td>accenture</td>\n",
       "      <td>1</td>\n",
       "      <td>1</td>\n",
       "      <td>36190.05</td>\n",
       "      <td>26028.06</td>\n",
       "      <td>AAA</td>\n",
       "      <td>AAA</td>\n",
       "      <td>NaN</td>\n",
       "      <td>NaN</td>\n",
       "    </tr>\n",
       "    <tr>\n",
       "      <th>1</th>\n",
       "      <td>TCS</td>\n",
       "      <td>2</td>\n",
       "      <td>3</td>\n",
       "      <td>16785.90</td>\n",
       "      <td>14924.34</td>\n",
       "      <td>AAA-</td>\n",
       "      <td>AAA-</td>\n",
       "      <td>NaN</td>\n",
       "      <td>NaN</td>\n",
       "    </tr>\n",
       "    <tr>\n",
       "      <th>2</th>\n",
       "      <td>Infosys</td>\n",
       "      <td>3</td>\n",
       "      <td>4</td>\n",
       "      <td>12777.00</td>\n",
       "      <td>8402.05</td>\n",
       "      <td>AAA-</td>\n",
       "      <td>AAA-</td>\n",
       "      <td>NaN</td>\n",
       "      <td>NaN</td>\n",
       "    </tr>\n",
       "    <tr>\n",
       "      <th>3</th>\n",
       "      <td>IBM Consulting</td>\n",
       "      <td>4</td>\n",
       "      <td>2</td>\n",
       "      <td>10582.40</td>\n",
       "      <td>16056.73</td>\n",
       "      <td>AAA</td>\n",
       "      <td>AAA-</td>\n",
       "      <td>NaN</td>\n",
       "      <td>NaN</td>\n",
       "    </tr>\n",
       "    <tr>\n",
       "      <th>4</th>\n",
       "      <td>Cognizant</td>\n",
       "      <td>5</td>\n",
       "      <td>5</td>\n",
       "      <td>8735.42</td>\n",
       "      <td>8031.83</td>\n",
       "      <td>AA</td>\n",
       "      <td>AA+</td>\n",
       "      <td>NaN</td>\n",
       "      <td>NaN</td>\n",
       "    </tr>\n",
       "  </tbody>\n",
       "</table>\n",
       "</div>"
      ],
      "text/plain": [
       "            Brand  Position Previous Position Brand Value ($M)  \\\n",
       "0       accenture         1                 1         36190.05   \n",
       "1             TCS         2                 3         16785.90   \n",
       "2         Infosys         3                 4         12777.00   \n",
       "3  IBM Consulting         4                 2         10582.40   \n",
       "4       Cognizant         5                 5          8735.42   \n",
       "\n",
       "  Previous Brand Value ($M) Rating Previous Rating  Year  Previous Year  \n",
       "0                  26028.06    AAA             AAA   NaN            NaN  \n",
       "1                  14924.34   AAA-            AAA-   NaN            NaN  \n",
       "2                   8402.05   AAA-            AAA-   NaN            NaN  \n",
       "3                  16056.73    AAA            AAA-   NaN            NaN  \n",
       "4                   8031.83     AA             AA+   NaN            NaN  "
      ]
     },
     "execution_count": 14,
     "metadata": {},
     "output_type": "execute_result"
    }
   ],
   "source": [
    "df = pd.read_csv('DataSets/brandirectory-ranking-data-it-services-{}.csv'.format(year))\n",
    "df.head(5)"
   ]
  },
  {
   "cell_type": "code",
   "execution_count": 18,
   "id": "3824ce23",
   "metadata": {
    "scrolled": true
   },
   "outputs": [
    {
     "name": "stdout",
     "output_type": "stream",
     "text": [
      "[2014, 2015, 2016, 2017, 2018, 2019, 2020, 2021, 2022]\n"
     ]
    }
   ],
   "source": [
    "No_Years = [2014+i for i in range(0,9)]\n",
    "print(No_Years)"
   ]
  },
  {
   "cell_type": "code",
   "execution_count": 17,
   "id": "072450f8",
   "metadata": {},
   "outputs": [
    {
     "name": "stdout",
     "output_type": "stream",
     "text": [
      "['Tieto', 'Accenture', 'Fujitsu', 'Atos', 'TCS', 'Bechtle', 'HPE (IT Services)', 'Cognizant', 'IBM (IT Services)', 'HCL', 'Bechtle (IT Services)', 'CTC', 'accenture', 'Ntt Data', 'Hewlett Packard Enterprise', 'IBM', 'NEC (IT Services)', 'IBM Consulting', 'Tech Mahindra', 'Xerox', 'Nec', 'Sabre', 'SAIC', 'EPAM', 'DXC Technology', 'Sopra Steria', 'Conduent', 'Capgemini', 'CGI', 'LTI', 'FIS', 'Globant', 'Thoughtworks', 'Samsung SDS', 'Wipro', 'Cap Gemini', 'Infosys', 'HP', 'Fujitsu (IT Services)', 'Computer Sciences']\n"
     ]
    }
   ],
   "source": [
    "import pandas as pd\n",
    "\n",
    "Company_List = []\n",
    "\n",
    "for year in No_Years:\n",
    "    \n",
    "    df = pd.read_csv('DataSets/brandirectory-ranking-data-it-services-{}.csv'.format(year))\n",
    "    Company_List.extend(list(df.Brand))\n",
    "    \n",
    "Company_List = list(set(Company_List))\n",
    "print(Company_List)"
   ]
  },
  {
   "cell_type": "code",
   "execution_count": 24,
   "id": "0d752cf0",
   "metadata": {},
   "outputs": [
    {
     "name": "stdout",
     "output_type": "stream",
     "text": [
      "The List of Companies:\n",
      " ['Tieto', 'Accenture', 'Fujitsu', 'Atos', 'TCS', 'Bechtle', 'HPE', 'Cognizant', 'IBM', 'HCL', 'Bechtle', 'CTC', 'accenture', 'Ntt Data', 'Hewlett Packard Enterprise', 'IBM', 'NEC', 'IBM Consulting', 'Tech Mahindra', 'Xerox', 'Nec', 'Sabre', 'SAIC', 'EPAM', 'DXC Technology', 'Sopra Steria', 'Conduent', 'Capgemini', 'CGI', 'LTI', 'FIS', 'Globant', 'Thoughtworks', 'Samsung SDS', 'Wipro', 'Cap Gemini', 'Infosys', 'HP', 'Fujitsu', 'Computer Sciences']\n",
      "\n",
      "Tota Companies Till Now: 40\n"
     ]
    }
   ],
   "source": [
    "New_Companies = []\n",
    "for i in Company_List:\n",
    "    if \"(IT Services)\" in i:\n",
    "        New_Companies.append(i.split(\" \")[0])\n",
    "    else:\n",
    "        New_Companies.append(i)\n",
    "        \n",
    "Company_List = New_Companies.copy()\n",
    "print(\"The List of Companies:\\n\",Company_List)\n",
    "print()\n",
    "print(\"Tota Companies Till Now:\",len(Company_List))"
   ]
  },
  {
   "cell_type": "code",
   "execution_count": null,
   "id": "ba55958a",
   "metadata": {},
   "outputs": [],
   "source": []
  }
 ],
 "metadata": {
  "kernelspec": {
   "display_name": "Python 3 (ipykernel)",
   "language": "python",
   "name": "python3"
  },
  "language_info": {
   "codemirror_mode": {
    "name": "ipython",
    "version": 3
   },
   "file_extension": ".py",
   "mimetype": "text/x-python",
   "name": "python",
   "nbconvert_exporter": "python",
   "pygments_lexer": "ipython3",
   "version": "3.9.13"
  }
 },
 "nbformat": 4,
 "nbformat_minor": 5
}
