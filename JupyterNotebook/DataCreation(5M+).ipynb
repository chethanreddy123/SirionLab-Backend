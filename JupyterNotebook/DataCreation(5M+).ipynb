{
 "cells": [
  {
   "cell_type": "markdown",
   "id": "90d97eb4",
   "metadata": {},
   "source": [
    "## Sample Structure of Data"
   ]
  },
  {
   "cell_type": "code",
   "execution_count": null,
   "id": "48db9267",
   "metadata": {},
   "outputs": [],
   "source": [
    "{'Supplier Name': 'Infosys',\n",
    " 'Region': 'APAC',\n",
    " 'Country': 'India',\n",
    " 'Function': 'IT & Infrastructure',\n",
    " 'Service': 'Applications Development',\n",
    " 'Avg. Cost($)': '100k',\n",
    " 'Rating': '90',\n",
    " 'Average Delivery Time': '90',\n",
    " 'Number of Escalations': '5',\n",
    " 'Year': '2018',\n",
    " 'Resources': '10000'}"
   ]
  },
  {
   "cell_type": "markdown",
   "id": "cf18e6e7",
   "metadata": {},
   "source": [
    "## Merging List of Random Companies"
   ]
  },
  {
   "cell_type": "code",
   "execution_count": 46,
   "id": "f286694f",
   "metadata": {},
   "outputs": [
    {
     "data": {
      "text/html": [
       "<div>\n",
       "<style scoped>\n",
       "    .dataframe tbody tr th:only-of-type {\n",
       "        vertical-align: middle;\n",
       "    }\n",
       "\n",
       "    .dataframe tbody tr th {\n",
       "        vertical-align: top;\n",
       "    }\n",
       "\n",
       "    .dataframe thead th {\n",
       "        text-align: right;\n",
       "    }\n",
       "</style>\n",
       "<table border=\"1\" class=\"dataframe\">\n",
       "  <thead>\n",
       "    <tr style=\"text-align: right;\">\n",
       "      <th></th>\n",
       "      <th>Brand</th>\n",
       "      <th>Position</th>\n",
       "      <th>Previous Position</th>\n",
       "      <th>Brand Value ($M)</th>\n",
       "      <th>Previous Brand Value ($M)</th>\n",
       "      <th>Rating</th>\n",
       "      <th>Previous Rating</th>\n",
       "      <th>Year</th>\n",
       "      <th>Previous Year</th>\n",
       "    </tr>\n",
       "  </thead>\n",
       "  <tbody>\n",
       "    <tr>\n",
       "      <th>0</th>\n",
       "      <td>accenture</td>\n",
       "      <td>1</td>\n",
       "      <td>1</td>\n",
       "      <td>36190.05</td>\n",
       "      <td>26028.06</td>\n",
       "      <td>AAA</td>\n",
       "      <td>AAA</td>\n",
       "      <td>NaN</td>\n",
       "      <td>NaN</td>\n",
       "    </tr>\n",
       "    <tr>\n",
       "      <th>1</th>\n",
       "      <td>TCS</td>\n",
       "      <td>2</td>\n",
       "      <td>3</td>\n",
       "      <td>16785.90</td>\n",
       "      <td>14924.34</td>\n",
       "      <td>AAA-</td>\n",
       "      <td>AAA-</td>\n",
       "      <td>NaN</td>\n",
       "      <td>NaN</td>\n",
       "    </tr>\n",
       "    <tr>\n",
       "      <th>2</th>\n",
       "      <td>Infosys</td>\n",
       "      <td>3</td>\n",
       "      <td>4</td>\n",
       "      <td>12777.00</td>\n",
       "      <td>8402.05</td>\n",
       "      <td>AAA-</td>\n",
       "      <td>AAA-</td>\n",
       "      <td>NaN</td>\n",
       "      <td>NaN</td>\n",
       "    </tr>\n",
       "    <tr>\n",
       "      <th>3</th>\n",
       "      <td>IBM Consulting</td>\n",
       "      <td>4</td>\n",
       "      <td>2</td>\n",
       "      <td>10582.40</td>\n",
       "      <td>16056.73</td>\n",
       "      <td>AAA</td>\n",
       "      <td>AAA-</td>\n",
       "      <td>NaN</td>\n",
       "      <td>NaN</td>\n",
       "    </tr>\n",
       "    <tr>\n",
       "      <th>4</th>\n",
       "      <td>Cognizant</td>\n",
       "      <td>5</td>\n",
       "      <td>5</td>\n",
       "      <td>8735.42</td>\n",
       "      <td>8031.83</td>\n",
       "      <td>AA</td>\n",
       "      <td>AA+</td>\n",
       "      <td>NaN</td>\n",
       "      <td>NaN</td>\n",
       "    </tr>\n",
       "  </tbody>\n",
       "</table>\n",
       "</div>"
      ],
      "text/plain": [
       "            Brand  Position Previous Position Brand Value ($M)  \\\n",
       "0       accenture         1                 1         36190.05   \n",
       "1             TCS         2                 3         16785.90   \n",
       "2         Infosys         3                 4         12777.00   \n",
       "3  IBM Consulting         4                 2         10582.40   \n",
       "4       Cognizant         5                 5          8735.42   \n",
       "\n",
       "  Previous Brand Value ($M) Rating Previous Rating  Year  Previous Year  \n",
       "0                  26028.06    AAA             AAA   NaN            NaN  \n",
       "1                  14924.34   AAA-            AAA-   NaN            NaN  \n",
       "2                   8402.05   AAA-            AAA-   NaN            NaN  \n",
       "3                  16056.73    AAA            AAA-   NaN            NaN  \n",
       "4                   8031.83     AA             AA+   NaN            NaN  "
      ]
     },
     "execution_count": 46,
     "metadata": {},
     "output_type": "execute_result"
    }
   ],
   "source": [
    "df = pd.read_csv('DataSets/brandirectory-ranking-data-it-services-{}.csv'.format(year))\n",
    "df.head(5)"
   ]
  },
  {
   "cell_type": "code",
   "execution_count": 47,
   "id": "1639481f",
   "metadata": {
    "scrolled": true
   },
   "outputs": [
    {
     "name": "stdout",
     "output_type": "stream",
     "text": [
      "[2014, 2015, 2016, 2017, 2018, 2019, 2020, 2021, 2022]\n"
     ]
    }
   ],
   "source": [
    "No_Years = [2014+i for i in range(0,9)]\n",
    "print(No_Years)"
   ]
  },
  {
   "cell_type": "code",
   "execution_count": 48,
   "id": "c8585e0e",
   "metadata": {},
   "outputs": [
    {
     "name": "stdout",
     "output_type": "stream",
     "text": [
      "['Tieto', 'Accenture', 'Fujitsu', 'Atos', 'TCS', 'Bechtle', 'HPE (IT Services)', 'Cognizant', 'IBM (IT Services)', 'HCL', 'Bechtle (IT Services)', 'CTC', 'accenture', 'Ntt Data', 'Hewlett Packard Enterprise', 'IBM', 'NEC (IT Services)', 'IBM Consulting', 'Tech Mahindra', 'Xerox', 'Nec', 'Sabre', 'SAIC', 'EPAM', 'DXC Technology', 'Sopra Steria', 'Conduent', 'Capgemini', 'CGI', 'LTI', 'FIS', 'Globant', 'Thoughtworks', 'Samsung SDS', 'Wipro', 'Cap Gemini', 'Infosys', 'HP', 'Fujitsu (IT Services)', 'Computer Sciences']\n"
     ]
    }
   ],
   "source": [
    "import pandas as pd\n",
    "\n",
    "Company_List = []\n",
    "\n",
    "for year in No_Years:\n",
    "    \n",
    "    df = pd.read_csv('DataSets/brandirectory-ranking-data-it-services-{}.csv'.format(year))\n",
    "    Company_List.extend(list(df.Brand))\n",
    "    \n",
    "Company_List = list(set(Company_List))\n",
    "print(Company_List)"
   ]
  },
  {
   "cell_type": "code",
   "execution_count": 49,
   "id": "27d08b54",
   "metadata": {},
   "outputs": [
    {
     "name": "stdout",
     "output_type": "stream",
     "text": [
      "The List of Companies:\n",
      " ['Tieto', 'Accenture', 'Fujitsu', 'Atos', 'TCS', 'Bechtle', 'HPE', 'Cognizant', 'IBM', 'HCL', 'Bechtle', 'CTC', 'accenture', 'Ntt Data', 'Hewlett Packard Enterprise', 'IBM', 'NEC', 'IBM Consulting', 'Tech Mahindra', 'Xerox', 'Nec', 'Sabre', 'SAIC', 'EPAM', 'DXC Technology', 'Sopra Steria', 'Conduent', 'Capgemini', 'CGI', 'LTI', 'FIS', 'Globant', 'Thoughtworks', 'Samsung SDS', 'Wipro', 'Cap Gemini', 'Infosys', 'HP', 'Fujitsu', 'Computer Sciences']\n",
      "\n",
      "Tota Companies Till Now: 40\n"
     ]
    }
   ],
   "source": [
    "New_Companies = []\n",
    "for i in Company_List:\n",
    "    if \"(IT Services)\" in i:\n",
    "        New_Companies.append(i.split(\" \")[0])\n",
    "    else:\n",
    "        New_Companies.append(i)\n",
    "        \n",
    "Company_List = New_Companies.copy()\n",
    "print(\"The List of Companies:\\n\",Company_List)\n",
    "print()\n",
    "print(\"Tota Companies Till Now:\",len(Company_List))"
   ]
  },
  {
   "cell_type": "code",
   "execution_count": 50,
   "id": "8efcf209",
   "metadata": {},
   "outputs": [],
   "source": [
    "ListOfCountries = ['australia' , 'india' , 'japan' , \n",
    "                   'russia' , 'software-industry' , 'united-kingdom']\n",
    "\n",
    "\n",
    "for country in ListOfCountries:\n",
    "    df = pd.read_csv('DataSets/list-of-companies-in-{}.csv'.format(country))\n",
    "    Company_List.extend(list(df['For more information such as company website, company description, industry, CEO, founder, and more upload this file to https://powrbot.com/company-search/ to get the latest information from the web.']))\n"
   ]
  },
  {
   "cell_type": "code",
   "execution_count": 51,
   "id": "b83f04ae",
   "metadata": {},
   "outputs": [
    {
     "name": "stdout",
     "output_type": "stream",
     "text": [
      "['spectrum polymers ltd', 'probation board for northern ireland', 'evolution of search', 'jenny macklin mp', 'polar electronic industries pty ltd', 'i3 resourcing', 'blueprint employment and training inc', 'maiden marketing and communications limited', 'london wall partners llp', 'parkers jewellers']\n",
      "Tota Companies Till Now: 771972\n"
     ]
    }
   ],
   "source": [
    "Company_List = list(set(Company_List))\n",
    "print(Company_List[0:10])\n",
    "print(\"Tota Companies Till Now:\",len(Company_List))"
   ]
  },
  {
   "cell_type": "markdown",
   "id": "a38f0e96",
   "metadata": {},
   "source": [
    "## Creating Region-List of all Countries"
   ]
  },
  {
   "cell_type": "code",
   "execution_count": 52,
   "id": "d563283a",
   "metadata": {},
   "outputs": [],
   "source": [
    "Region_List = {\n",
    "    \"Africa\" : ['Algeria', 'Angola', 'Benin', 'Botswana', 'Burkina Faso', 'Burundi', \n",
    "                'Cameroon', 'Cape Verde', 'Central African Republic', 'Chad', 'Comoros',\n",
    "                \"Cote d'Ivoire\", 'Democratic Republic of the Congo', 'Djibouti', 'Egypt', \n",
    "                'Equatorial Guinea', 'Eritrea', 'Ethiopia', 'Gabon', 'Gambia', 'Ghana', \n",
    "                'Guinea', 'Guinea-Bissau', 'Kenya', 'Lesotho', 'Liberia', 'Libya', 'Madagascar',\n",
    "                'Malawi', 'Mali', 'Mauritania', 'Mauritius', 'Morocco', 'Mozambique', 'Namibia', 'Niger', \n",
    "                'Nigeria', 'Republic of the Congo', 'Reunion', 'Rwanda', \n",
    "                'Saint Helena', 'Sao Tome and Principe', 'Senegal', 'Seychelles', \n",
    "                'Sierra Leone', 'Somalia', 'South Africa', 'South Sudan', 'Sudan', 'Swaziland', \n",
    "                'Tanzania', 'Togo', 'Tunisia', 'Uganda', 'Western Sahara', 'Zambia', 'Zimbabwe'],\n",
    "    \n",
    "    \"Asia\": ['Afghanistan', 'Armenia', 'Azerbaijan', 'Bahrain', 'Bangladesh', 'Bhutan', 'Brunei', 'Burma', 'Cambodia', 'China', 'Cyprus', 'East Timor', 'Georgia', 'Hong Kong', 'India', 'Indonesia', 'Iran', 'Iraq', 'Israel', 'Japan', 'Jordan', 'Kazakhstan', 'Kuwait', 'Kyrgyzstan', 'Laos', 'Lebanon', 'Macau', 'Malaysia', 'Maldives', 'Mongolia', 'Nepal', 'North Korea', 'Oman', 'Pakistan', 'Philippines', 'Qatar', 'Saudi Arabia', 'Singapore', 'South Korea', 'Sri Lanka', 'Syria', 'Taiwan', 'Tajikistan', 'Thailand', 'Turkey', 'Turkmenistan', 'United Arab Emirates', 'Uzbekistan', 'Vietnam', 'Yemem'],\n",
    "    \"Caribbean\" :['Anguilla', 'Antigua and Barbuda', 'Aruba', 'The Bahamas', 'Barbados', 'Bermuda', 'British Virgin Islands', 'Cayman Islands', 'Cuba', 'Dominica', 'Dominican Republic', 'Grenada', 'Guadeloupe', 'Haiti', 'Jamaica', 'Martinique', 'Montserrat', 'Netherlands Antilles', 'Puerto Rico', 'Saint Kitts and Nevis', 'Saint Lucia', 'Saint Vincent and the Grenadines', 'Trinidad and Tobago', 'Turks and Caicos Islands', 'U.S. Virgin Islands'] ,\n",
    "    \"Central America\" : ['Belize', 'Costa Rica', 'El Salvador', 'Guatemala', 'Honduras', 'Nicaragua', 'Panama'],\n",
    "    \"Europe\" : ['Albania', 'Andorra', 'Austria', 'Belarus', 'Belgium', 'Bosnia and Herzegovina', 'Bulgaria', 'Croatia', 'Czech Republic', 'Denmark', 'Estonia', 'Finland', 'France', 'Germany', 'Gibraltar', 'Greece', 'Holy See', 'Hungary', 'Iceland', 'Ireland', 'Italy', 'Kosovo', 'Latvia', 'Liechtenstein', 'Lithuania', 'Luxembourg', 'Macedonia', 'Malta', 'Moldova', 'Monaco', 'Montenegro', 'Netherlands', 'Norway', 'Poland', 'Portugal', 'Romania', 'Russia', 'San Marino', 'Slovak Republic', 'Slovenia', 'Spain', 'Serbia', 'Serbia and Montenegro', 'Sweden', 'Switzerland', 'Ukraine', 'United Kingdom'],\n",
    "    \"North America\" : ['Canada', 'Greenland', 'Mexico', 'Saint Pierre and Miquelon', 'United States', 'Caribbean', 'Central America'],\n",
    "    \"Oceania\" : ['American Samoa', 'Australia', 'Christmas Island', 'Cocos (Keeling) Islands', 'Cook Islands', 'Federated States of Micronesia', 'Fiji', 'French Polynesia', 'Guam', 'Kiribati', 'Marshall Islands', 'Nauru', 'New Caledonia', 'New Zealand', 'Niue', 'Northern Mariana Islands', 'Palau', 'Papua New Guinea', 'Pitcairn Islands', 'Samoa', 'Solomon Islands', 'Tokelau', 'Tonga', 'Tuvalu', 'Vanuatu', 'and Wallis', 'Futuna Islands'],\n",
    "    \"South America\": ['Argentina', 'Bolivia', 'Brazil', 'Chile', 'Colombia', 'Ecuador', 'Falkland Islands', 'French Guiana', 'Guyana', 'Paraguay', 'Peru', 'Suriname', 'Uruguay', 'Venezuela'] \n",
    "}"
   ]
  },
  {
   "cell_type": "code",
   "execution_count": 53,
   "id": "cdddec77",
   "metadata": {},
   "outputs": [],
   "source": [
    "import json\n",
    "\n",
    "f = json.dumps(Region_List)\n",
    "with open('Region_List.json' , 'w') as k:\n",
    "    k.write(f)"
   ]
  },
  {
   "cell_type": "code",
   "execution_count": 54,
   "id": "067e18a9",
   "metadata": {},
   "outputs": [
    {
     "name": "stdout",
     "output_type": "stream",
     "text": [
      "[2014, 2015, 2016, 2017, 2018, 2019, 2020, 2021, 2022]\n"
     ]
    }
   ],
   "source": [
    "Function_List = [\"IT & Infrastructure\" , \"Consulting\" , \"HR\" , \"Software\" , \n",
    "                 \"Marketing\" ,\"Insurance\" , \"Finance\" , \"Applications Development\"]\n",
    "print(No_Years)"
   ]
  },
  {
   "cell_type": "markdown",
   "id": "bb32290d",
   "metadata": {},
   "source": [
    "## Creating 7 Million Sample Data \n",
    "## -- Random Generator\n",
    "#### Structure of Data:\n",
    "{'Supplier Name': 'Infosys',\n",
    " 'Region': 'APAC',\n",
    " 'Country': 'India',\n",
    " 'Function': 'IT & Infrastructure',\n",
    " 'Service': 'Applications Development',\n",
    " 'Avg. Cost($)': '100k',\n",
    " 'Rating': '90',\n",
    " 'Average Delivery Time': '90',\n",
    " 'Number of Escalations': '5',\n",
    " 'Year': '2018',\n",
    " 'Resources': '10000'}"
   ]
  },
  {
   "cell_type": "markdown",
   "id": "7d4e1698",
   "metadata": {},
   "source": [
    "### Random Generator using BoxMullerFormula"
   ]
  },
  {
   "cell_type": "code",
   "execution_count": 55,
   "id": "34903617",
   "metadata": {},
   "outputs": [],
   "source": [
    "import random \n",
    "import math\n",
    "\n",
    "def BoxMullerFormula(a,b):\n",
    "    c = math.sqrt(-2 * math.log(a)) * math.cos(2 * math.pi * b)\n",
    "    d = math.sqrt(-2 * math.log(a)) * math.sin(2 * math.pi * b)\n",
    "    return (c,d)\n",
    "def BoxM(): \n",
    "     while 1:\n",
    "        Rand01 = random.random()\n",
    "        Rand02 = random.random()\n",
    "        (a,b) = BoxMullerFormula(Rand01,Rand02)\n",
    "        yield a \n",
    "        yield b "
   ]
  },
  {
   "cell_type": "code",
   "execution_count": 56,
   "id": "ca5e5495",
   "metadata": {},
   "outputs": [
    {
     "name": "stdout",
     "output_type": "stream",
     "text": [
      "The Total Lenght of Final Data: 6947748\n"
     ]
    }
   ],
   "source": [
    "\n",
    "Final_Dict_Data = []\n",
    "\n",
    "for year in No_Years:\n",
    "    for company in Company_List:\n",
    "        curr_Dict = {}\n",
    "        curr_Dict['Supplier Name'] = company\n",
    "        curr_Dict['Region'] = random.choice(list(Region_List.keys()))\n",
    "        curr_Dict['Country'] = random.choice(Region_List[curr_Dict['Region']])\n",
    "        curr_Dict['Function'] = random.choice(Function_List)\n",
    "        curr_Dict['Avg. Cost($)'] = random.randrange(50,500,50)\n",
    "        curr_Dict['Rating'] = random.randrange(10,100,10)\n",
    "        curr_Dict['Average Delivery Time'] = random.randrange(100,1000,10)\n",
    "        curr_Dict['Number of Escalations'] = random.randrange(5,500,5)\n",
    "        curr_Dict['Year'] = year\n",
    "        curr_Dict['Resources'] = random.randrange(1000,10000,1000)\n",
    "        \n",
    "        Final_Dict_Data.append(curr_Dict)\n",
    "        \n",
    "print(\"The Total Lenght of Final Data:\",len(Final_Dict_Data))"
   ]
  },
  {
   "cell_type": "markdown",
   "id": "d239cdce",
   "metadata": {},
   "source": [
    "## Final Data is of Almost 1 GB \n",
    "### -> To Make it faster spliting data into multiple packets of data\n",
    "### -> Storing them in pickle file in the binary mode"
   ]
  },
  {
   "cell_type": "code",
   "execution_count": 57,
   "id": "894a8892",
   "metadata": {},
   "outputs": [],
   "source": [
    "No_of_Parts = len(Final_Dict_Data)//6\n",
    "list_of_lists = [Final_Dict_Data[i:i+No_of_Parts] for i in range(0, len(Final_Dict_Data),No_of_Parts)]"
   ]
  },
  {
   "cell_type": "code",
   "execution_count": 58,
   "id": "433d0d5a",
   "metadata": {},
   "outputs": [
    {
     "name": "stdout",
     "output_type": "stream",
     "text": [
      "Lenght of each item in list: 1157958\n",
      "Lenght of Overall list: 6\n"
     ]
    }
   ],
   "source": [
    "print(\"Lenght of each item in list:\",len(list_of_lists[0]))\n",
    "print(\"Lenght of Overall list:\",len(list_of_lists))"
   ]
  },
  {
   "cell_type": "code",
   "execution_count": 59,
   "id": "44bf6c8a",
   "metadata": {},
   "outputs": [],
   "source": [
    "count = 1\n",
    "for eachItem in list_of_lists:\n",
    "    with open(\"Final_Data_of_Supplier{}.pkl\".format(count) , 'wb') as f:\n",
    "        pickle.dump(eachItem, f)\n",
    "    count += 1"
   ]
  },
  {
   "cell_type": "code",
   "execution_count": null,
   "id": "5cad9e6f",
   "metadata": {},
   "outputs": [],
   "source": []
  }
 ],
 "metadata": {
  "kernelspec": {
   "display_name": "Python 3 (ipykernel)",
   "language": "python",
   "name": "python3"
  },
  "language_info": {
   "codemirror_mode": {
    "name": "ipython",
    "version": 3
   },
   "file_extension": ".py",
   "mimetype": "text/x-python",
   "name": "python",
   "nbconvert_exporter": "python",
   "pygments_lexer": "ipython3",
   "version": "3.9.13"
  }
 },
 "nbformat": 4,
 "nbformat_minor": 5
}
