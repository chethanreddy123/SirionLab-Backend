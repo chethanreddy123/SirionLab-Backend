{
 "cells": [
  {
   "cell_type": "markdown",
   "id": "2df5a18b",
   "metadata": {},
   "source": [
    "## Let's Load the Data"
   ]
  },
  {
   "cell_type": "code",
   "execution_count": 10,
   "id": "805b17d3",
   "metadata": {},
   "outputs": [
    {
     "name": "stdout",
     "output_type": "stream",
     "text": [
      "The total time to load data is:(sec) 13.240299224853516\n"
     ]
    }
   ],
   "source": [
    "import pickle\n",
    "import time \n",
    "\n",
    "start = time.time()\n",
    "\n",
    "Loaded_Content = []\n",
    "\n",
    "for i in range(1,22):\n",
    "    with open('Final_Data_of_Supplier{}.pkl'.format(i), 'rb') as pickle_file:\n",
    "        content = pickle.load(pickle_file)\n",
    "        Loaded_Content.extend(content)\n",
    "    \n",
    "end = time.time()\n",
    "print(\"The total time to load data is:(sec)\",end-start)"
   ]
  },
  {
   "cell_type": "code",
   "execution_count": 11,
   "id": "82fca79c",
   "metadata": {},
   "outputs": [
    {
     "name": "stdout",
     "output_type": "stream",
     "text": [
      "Total Lenght:  6947748\n",
      "[{'SupplierName': 'spectrum polymers ltd', 'Region': 'Central America', 'Country': 'Panama', 'Function': 'Applications Development', 'AvgCost': 50, 'Rating': 60, 'AverageDeliveryTime': 540, 'NumberofEscalations': 260, 'Year': 2014, 'Resources': 5000}, {'SupplierName': 'probation board for northern ireland', 'Region': 'Caribbean', 'Country': 'Guadeloupe', 'Function': 'Consulting', 'AvgCost': 400, 'Rating': 20, 'AverageDeliveryTime': 510, 'NumberofEscalations': 20, 'Year': 2014, 'Resources': 2000}, {'SupplierName': 'evolution of search', 'Region': 'North America', 'Country': 'United States', 'Function': 'Consulting', 'AvgCost': 400, 'Rating': 50, 'AverageDeliveryTime': 240, 'NumberofEscalations': 65, 'Year': 2014, 'Resources': 5000}, {'SupplierName': 'jenny macklin mp', 'Region': 'South America', 'Country': 'Colombia', 'Function': 'Consulting', 'AvgCost': 150, 'Rating': 60, 'AverageDeliveryTime': 110, 'NumberofEscalations': 345, 'Year': 2014, 'Resources': 2000}, {'SupplierName': 'polar electronic industries pty ltd', 'Region': 'Caribbean', 'Country': 'Aruba', 'Function': 'HR', 'AvgCost': 450, 'Rating': 50, 'AverageDeliveryTime': 860, 'NumberofEscalations': 255, 'Year': 2014, 'Resources': 7000}, {'SupplierName': 'i3 resourcing', 'Region': 'Africa', 'Country': \"Cote d'Ivoire\", 'Function': 'Insurance', 'AvgCost': 200, 'Rating': 70, 'AverageDeliveryTime': 540, 'NumberofEscalations': 120, 'Year': 2014, 'Resources': 9000}, {'SupplierName': 'blueprint employment and training inc', 'Region': 'Asia', 'Country': 'Uzbekistan', 'Function': 'Marketing', 'AvgCost': 450, 'Rating': 70, 'AverageDeliveryTime': 320, 'NumberofEscalations': 260, 'Year': 2014, 'Resources': 9000}, {'SupplierName': 'maiden marketing and communications limited', 'Region': 'Caribbean', 'Country': 'Barbados', 'Function': 'HR', 'AvgCost': 450, 'Rating': 50, 'AverageDeliveryTime': 520, 'NumberofEscalations': 390, 'Year': 2014, 'Resources': 8000}, {'SupplierName': 'london wall partners llp', 'Region': 'North America', 'Country': 'Central America', 'Function': 'Finance', 'AvgCost': 350, 'Rating': 50, 'AverageDeliveryTime': 880, 'NumberofEscalations': 380, 'Year': 2014, 'Resources': 9000}, {'SupplierName': 'parkers jewellers', 'Region': 'Central America', 'Country': 'Panama', 'Function': 'IT & Infrastructure', 'AvgCost': 150, 'Rating': 90, 'AverageDeliveryTime': 170, 'NumberofEscalations': 385, 'Year': 2014, 'Resources': 7000}]\n"
     ]
    }
   ],
   "source": [
    "print(\"Total Lenght: \", len(Loaded_Content))\n",
    "print()\n",
    "Loaded_Content[0:10]"
   ]
  },
  {
   "cell_type": "markdown",
   "id": "e7a87ff8",
   "metadata": {},
   "source": [
    "## Statistical Analysis of Supplier - data"
   ]
  },
  {
   "cell_type": "code",
   "execution_count": 12,
   "id": "f67b949c",
   "metadata": {},
   "outputs": [],
   "source": [
    "import math\n",
    "import statistics\n",
    "\n",
    "List_Avg = [Supplier['AvgCost'] for Supplier in Loaded_Content]\n",
    "List_NoE = [Supplier['NumberofEscalations'] for Supplier in Loaded_Content]\n",
    "List_Rat = [Supplier['Rating'] for Supplier in Loaded_Content]\n",
    "List_Res = [Supplier['Resources'] for Supplier in Loaded_Content]\n",
    "List_Agt = [Supplier['AverageDeliveryTime'] for Supplier in Loaded_Content]\n",
    "\n",
    "\n",
    "m_Avg , std_Avg = statistics.mean(List_Avg) , statistics.stdev(List_Avg)\n",
    "m_NoE, std_NoE = statistics.mean(List_NoE) , statistics.stdev(List_NoE)\n",
    "m_Rat , std_Rat = statistics.mean(List_Rat) , statistics.stdev(List_Rat)\n",
    "m_Res , std_Res = statistics.mean(List_Res) , statistics.stdev(List_Res)\n",
    "m_Agt , std_Agt = statistics.mean(List_Agt) , statistics.stdev(List_Agt)"
   ]
  },
  {
   "cell_type": "markdown",
   "id": "e4a56fb6",
   "metadata": {},
   "source": [
    "## Creating the Cost Function -- *heart of the algo*\n",
    "###### Significance of Mean and Starddeviation in the cost function: The mean shows the location of the center of the data and the standard deviation is the spread in the data. The application of the normal distribution comes from assessing data points in terms of the standard deviation."
   ]
  },
  {
   "cell_type": "code",
   "execution_count": 30,
   "id": "fa488c67",
   "metadata": {},
   "outputs": [],
   "source": [
    "import math\n",
    "\n",
    "def sigmoid(x):\n",
    "    return 1/(1 + math.exp(-x))\n",
    "\n",
    "def Cost(DataStructure):\n",
    "    # all the attibutes are glabal\n",
    "    Numerator1 =  (std_Res * (DataStructure['Resources'] - m_Res))\n",
    "    Numerator2 = (std_Rat * (DataStructure['Rating'] - m_Rat))\n",
    "    Numerator3 = (std_NoE * (DataStructure['NumberofEscalations']) - m_NoE)\n",
    "    \n",
    "    Denominator1 = (sigmoid(std_Agt) * (DataStructure['AverageDeliveryTime'] - m_Agt))\n",
    "    Denominator2 = (sigmoid(std_Avg) * (DataStructure['AvgCost'] - m_Avg))\n",
    "    \n",
    "    Final_Cost = (Numerator1 + Numerator2 + Numerator3) - (Denominator1 + Denominator2)\n",
    "    \n",
    "    return Final_Cost"
   ]
  },
  {
   "cell_type": "markdown",
   "id": "9053e22d",
   "metadata": {},
   "source": [
    "## Bi-Linear-Search for Cleaning Data:"
   ]
  },
  {
   "cell_type": "code",
   "execution_count": 35,
   "id": "dd4f8aeb",
   "metadata": {
    "scrolled": true
   },
   "outputs": [
    {
     "name": "stdout",
     "output_type": "stream",
     "text": [
      "Total Time for cleaning: 2.0128495693206787\n"
     ]
    }
   ],
   "source": [
    "L = ['SupplierName', 'Region', 'Country', 'Function', 'AvgCost', 'Rating', 'AverageDeliveryTime', \n",
    " 'NumberofEscalations', 'Year', 'Resources']\n",
    "\n",
    "def Check(DataStructure):\n",
    "    for key in L:\n",
    "        if key not in DataStructure:\n",
    "            return False\n",
    "    return True\n",
    "\n",
    "import time \n",
    "\n",
    "start = time.time()\n",
    "\n",
    "Iter = len(Loaded_Content)//2\n",
    "\n",
    "for i in range(Iter):\n",
    "    left = Loaded_Content[Iter]\n",
    "    right = Loaded_Content[Iter + i]\n",
    "    # checking if both right and left are valid or not \n",
    "    # based on it we can remove the data\n",
    "\n",
    "end = time.time()\n",
    "\n",
    "print(\"Total Time for cleaning:\",end - start)"
   ]
  },
  {
   "cell_type": "markdown",
   "id": "88a4850e",
   "metadata": {},
   "source": [
    "## Testing the Cost Function"
   ]
  },
  {
   "cell_type": "code",
   "execution_count": 34,
   "id": "9a071520",
   "metadata": {},
   "outputs": [
    {
     "name": "stdout",
     "output_type": "stream",
     "text": [
      "dict_keys(['SupplierName', 'Region', 'Country', 'Function', 'AvgCost', 'Rating', 'AverageDeliveryTime', 'NumberofEscalations', 'Year', 'Resources'])\n"
     ]
    }
   ],
   "source": [
    "print(Loaded_Content[0].keys())"
   ]
  },
  {
   "cell_type": "code",
   "execution_count": 33,
   "id": "05e3844f",
   "metadata": {
    "scrolled": true
   },
   "outputs": [
    {
     "name": "stdout",
     "output_type": "stream",
     "text": [
      "{'SupplierName': 'spectrum polymers ltd', 'Region': 'Central America', 'Country': 'Panama', 'Function': 'Applications Development', 'AvgCost': 50, 'Rating': 60, 'AverageDeliveryTime': 540, 'NumberofEscalations': 260, 'Year': 2014, 'Resources': 5000}\n"
     ]
    },
    {
     "data": {
      "text/plain": [
       "39168.39957698733"
      ]
     },
     "execution_count": 33,
     "metadata": {},
     "output_type": "execute_result"
    }
   ],
   "source": [
    "print(Loaded_Content[0])\n",
    "Cost(Loaded_Content[0])"
   ]
  },
  {
   "cell_type": "code",
   "execution_count": 32,
   "id": "ccd25f8f",
   "metadata": {},
   "outputs": [
    {
     "name": "stdout",
     "output_type": "stream",
     "text": [
      "{'SupplierName': 'evolution of search', 'Region': 'North America', 'Country': 'United States', 'Function': 'Consulting', 'AvgCost': 400, 'Rating': 50, 'AverageDeliveryTime': 240, 'NumberofEscalations': 65, 'Year': 2014, 'Resources': 5000}\n"
     ]
    },
    {
     "data": {
      "text/plain": [
       "10999.65618618173"
      ]
     },
     "execution_count": 32,
     "metadata": {},
     "output_type": "execute_result"
    }
   ],
   "source": [
    "print(Loaded_Content[2])\n",
    "Cost(Loaded_Content[2])"
   ]
  },
  {
   "cell_type": "code",
   "execution_count": 37,
   "id": "69b123ff",
   "metadata": {},
   "outputs": [
    {
     "name": "stdout",
     "output_type": "stream",
     "text": [
      "Done!!\n"
     ]
    }
   ],
   "source": [
    "# applying the Cost Fucntion for every single data point\n",
    "\n",
    "Length = len(Loaded_Content)\n",
    "\n",
    "for i in range(Length):\n",
    "    Loaded_Content[i]['Cost'] = Cost(Loaded_Content[i])\n",
    "print(\"Done!!\")"
   ]
  },
  {
   "cell_type": "markdown",
   "id": "ad8d264b",
   "metadata": {},
   "source": [
    "#### Sorted Function - TimSort\n",
    "###### Python uses an algorithm called Timsort: Timsort is a hybrid sorting algorithm, derived from merge sort and insertion sort, designed to perform well on many kinds of real-world data. It was invented by Tim Peters in 2002 for use in the Python programming language."
   ]
  },
  {
   "cell_type": "code",
   "execution_count": 38,
   "id": "972708c6",
   "metadata": {},
   "outputs": [
    {
     "name": "stdout",
     "output_type": "stream",
     "text": [
      "Done!!\n"
     ]
    }
   ],
   "source": [
    "Sorted_Content = sorted(Loaded_Content , key = lambda k : k['Cost'] , reverse = True)\n",
    "print(\"Done!!\")"
   ]
  },
  {
   "cell_type": "code",
   "execution_count": 40,
   "id": "d6088f0c",
   "metadata": {},
   "outputs": [
    {
     "data": {
      "text/plain": [
       "[{'SupplierName': 'mayuresh gears pvt ltd',\n",
       "  'Region': 'Europe',\n",
       "  'Country': 'Italy',\n",
       "  'Function': 'Finance',\n",
       "  'AvgCost': 50,\n",
       "  'Rating': 90,\n",
       "  'AverageDeliveryTime': 100,\n",
       "  'NumberofEscalations': 495,\n",
       "  'Year': 2015,\n",
       "  'Resources': 9000,\n",
       "  'Cost': 10401986.77325441},\n",
       " {'SupplierName': 'ddc architects',\n",
       "  'Region': 'Africa',\n",
       "  'Country': 'Burundi',\n",
       "  'Function': 'Applications Development',\n",
       "  'AvgCost': 50,\n",
       "  'Rating': 90,\n",
       "  'AverageDeliveryTime': 100,\n",
       "  'NumberofEscalations': 495,\n",
       "  'Year': 2017,\n",
       "  'Resources': 9000,\n",
       "  'Cost': 10401986.77325441},\n",
       " {'SupplierName': 'polar blue photography',\n",
       "  'Region': 'Asia',\n",
       "  'Country': 'United Arab Emirates',\n",
       "  'Function': 'IT & Infrastructure',\n",
       "  'AvgCost': 50,\n",
       "  'Rating': 90,\n",
       "  'AverageDeliveryTime': 110,\n",
       "  'NumberofEscalations': 495,\n",
       "  'Year': 2015,\n",
       "  'Resources': 9000,\n",
       "  'Cost': 10401976.77325441},\n",
       " {'SupplierName': 'shakespeare martineau llp',\n",
       "  'Region': 'Europe',\n",
       "  'Country': 'Denmark',\n",
       "  'Function': 'Applications Development',\n",
       "  'AvgCost': 50,\n",
       "  'Rating': 90,\n",
       "  'AverageDeliveryTime': 110,\n",
       "  'NumberofEscalations': 495,\n",
       "  'Year': 2017,\n",
       "  'Resources': 9000,\n",
       "  'Cost': 10401976.77325441},\n",
       " {'SupplierName': 'the hearing clinic (uk) limited',\n",
       "  'Region': 'North America',\n",
       "  'Country': 'Caribbean',\n",
       "  'Function': 'Insurance',\n",
       "  'AvgCost': 50,\n",
       "  'Rating': 90,\n",
       "  'AverageDeliveryTime': 110,\n",
       "  'NumberofEscalations': 495,\n",
       "  'Year': 2020,\n",
       "  'Resources': 9000,\n",
       "  'Cost': 10401976.77325441},\n",
       " {'SupplierName': 'talent & beyond',\n",
       "  'Region': 'Central America',\n",
       "  'Country': 'Nicaragua',\n",
       "  'Function': 'Finance',\n",
       "  'AvgCost': 50,\n",
       "  'Rating': 90,\n",
       "  'AverageDeliveryTime': 120,\n",
       "  'NumberofEscalations': 495,\n",
       "  'Year': 2019,\n",
       "  'Resources': 9000,\n",
       "  'Cost': 10401966.77325441},\n",
       " {'SupplierName': 'tidy numbers accountancy services',\n",
       "  'Region': 'Caribbean',\n",
       "  'Country': 'Dominican Republic',\n",
       "  'Function': 'IT & Infrastructure',\n",
       "  'AvgCost': 50,\n",
       "  'Rating': 90,\n",
       "  'AverageDeliveryTime': 120,\n",
       "  'NumberofEscalations': 495,\n",
       "  'Year': 2020,\n",
       "  'Resources': 9000,\n",
       "  'Cost': 10401966.77325441},\n",
       " {'SupplierName': 'micronizing company uk ltd',\n",
       "  'Region': 'Asia',\n",
       "  'Country': 'Nepal',\n",
       "  'Function': 'Applications Development',\n",
       "  'AvgCost': 50,\n",
       "  'Rating': 90,\n",
       "  'AverageDeliveryTime': 120,\n",
       "  'NumberofEscalations': 495,\n",
       "  'Year': 2022,\n",
       "  'Resources': 9000,\n",
       "  'Cost': 10401966.77325441},\n",
       " {'SupplierName': 'indian ocean hotel',\n",
       "  'Region': 'Oceania',\n",
       "  'Country': 'Samoa',\n",
       "  'Function': 'Insurance',\n",
       "  'AvgCost': 50,\n",
       "  'Rating': 90,\n",
       "  'AverageDeliveryTime': 150,\n",
       "  'NumberofEscalations': 495,\n",
       "  'Year': 2022,\n",
       "  'Resources': 9000,\n",
       "  'Cost': 10401936.77325441},\n",
       " {'SupplierName': 'mabells petroleum advisors',\n",
       "  'Region': 'South America',\n",
       "  'Country': 'Bolivia',\n",
       "  'Function': 'IT & Infrastructure',\n",
       "  'AvgCost': 50,\n",
       "  'Rating': 90,\n",
       "  'AverageDeliveryTime': 160,\n",
       "  'NumberofEscalations': 495,\n",
       "  'Year': 2022,\n",
       "  'Resources': 9000,\n",
       "  'Cost': 10401926.77325441}]"
      ]
     },
     "execution_count": 40,
     "metadata": {},
     "output_type": "execute_result"
    }
   ],
   "source": [
    "Sorted_Content[0:10]"
   ]
  },
  {
   "cell_type": "markdown",
   "id": "6289091d",
   "metadata": {},
   "source": [
    "## Finding the Maximum and Minimum for Cost Functions"
   ]
  },
  {
   "cell_type": "code",
   "execution_count": 44,
   "id": "793db270",
   "metadata": {},
   "outputs": [
    {
     "data": {
      "text/plain": [
       "(10401986.77325441, -10327433.682112753, 20729420.455367163)"
      ]
     },
     "execution_count": 44,
     "metadata": {},
     "output_type": "execute_result"
    }
   ],
   "source": [
    "OldMax = Sorted_Content[0]['Cost']\n",
    "OldMin = Sorted_Content[len(Sorted_Content) - 1]['Cost']\n",
    "OldRange = OldMax - OldMin\n",
    "\n",
    "OldMax, OldMin, OldRange"
   ]
  },
  {
   "cell_type": "code",
   "execution_count": 46,
   "id": "5c119823",
   "metadata": {},
   "outputs": [],
   "source": [
    "NewMax = 1000\n",
    "NewMin = 1\n",
    "\n",
    "NewRange = NewMax - NewMin\n",
    "\n",
    "NewValue =  lambda x : (((x - OldMin) * NewRange) / OldRange) + NewMin"
   ]
  },
  {
   "cell_type": "code",
   "execution_count": 48,
   "id": "424c1a23",
   "metadata": {},
   "outputs": [
    {
     "data": {
      "text/plain": [
       "499.2330334390848"
      ]
     },
     "execution_count": 48,
     "metadata": {},
     "output_type": "execute_result"
    }
   ],
   "source": [
    "{'SupplierName': 'mayuresh gears pvt ltd',\n",
    "  'Region': 'Europe',\n",
    "  'Country': 'Italy',\n",
    "  'Function': 'Finance',\n",
    "  'AvgCost': 50,\n",
    "  'Rating': 90,\n",
    "  'AverageDeliveryTime': 100,\n",
    "  'NumberofEscalations': 495,\n",
    "  'Year': 2015,\n",
    "  'Resources': 9000,\n",
    "  'Cost': 10401986.77325441},\n",
    "NewValue(10986.77325441)"
   ]
  },
  {
   "cell_type": "markdown",
   "id": "ac99ef44",
   "metadata": {},
   "source": [
    "## Changing the Range of the Cost Function:"
   ]
  },
  {
   "cell_type": "code",
   "execution_count": null,
   "id": "3a6d3acf",
   "metadata": {},
   "outputs": [],
   "source": [
    "Length = len(Sorted_Content)\n",
    "\n",
    "for i in range(Length):\n",
    "    Sorted_Content[i]['Cost'] = NewValue(Sorted_Content[i]['Cost'])\n",
    "print(\"Done!!\")"
   ]
  },
  {
   "cell_type": "code",
   "execution_count": 50,
   "id": "3f9201e5",
   "metadata": {},
   "outputs": [],
   "source": [
    "No_of_Parts = len(Sorted_Content)//20\n",
    "list_of_lists = [Sorted_Content[i:i+No_of_Parts] for i in range(0, len(Sorted_Content),No_of_Parts)]"
   ]
  },
  {
   "cell_type": "code",
   "execution_count": 51,
   "id": "817d7bd4",
   "metadata": {},
   "outputs": [
    {
     "name": "stdout",
     "output_type": "stream",
     "text": [
      "Lenght of each item in list: 347387\n",
      "Lenght of Overall list: 21\n"
     ]
    }
   ],
   "source": [
    "print(\"Lenght of each item in list:\",len(list_of_lists[0]))\n",
    "print(\"Lenght of Overall list:\",len(list_of_lists))"
   ]
  },
  {
   "cell_type": "code",
   "execution_count": 52,
   "id": "429dd787",
   "metadata": {},
   "outputs": [],
   "source": [
    "count = 1\n",
    "for eachItem in list_of_lists:\n",
    "    with open(\"CostAddedData/Final_Data_of_Supplier{}.pkl\".format(count) , 'wb') as f:\n",
    "        pickle.dump(eachItem, f)\n",
    "    count += 1"
   ]
  },
  {
   "cell_type": "markdown",
   "id": "2be91b4e",
   "metadata": {},
   "source": [
    "## Data Creationg for Forecasting"
   ]
  },
  {
   "cell_type": "code",
   "execution_count": 59,
   "id": "4ac86b42",
   "metadata": {},
   "outputs": [
    {
     "name": "stdout",
     "output_type": "stream",
     "text": [
      "[{'SupplierName': 'mayuresh gears pvt ltd', 'Region': 'Europe', 'Country': 'Italy', 'Function': 'Finance', 'AvgCost': 50, 'Rating': 90, 'AverageDeliveryTime': 100, 'NumberofEscalations': 495, 'Year': 2015, 'Resources': 9000, 'Cost': 1000.0}, {'SupplierName': 'ddc architects', 'Region': 'Africa', 'Country': 'Burundi', 'Function': 'Applications Development', 'AvgCost': 50, 'Rating': 90, 'AverageDeliveryTime': 100, 'NumberofEscalations': 495, 'Year': 2017, 'Resources': 9000, 'Cost': 1000.0}, {'SupplierName': 'polar blue photography', 'Region': 'Asia', 'Country': 'United Arab Emirates', 'Function': 'IT & Infrastructure', 'AvgCost': 50, 'Rating': 90, 'AverageDeliveryTime': 110, 'NumberofEscalations': 495, 'Year': 2015, 'Resources': 9000, 'Cost': 999.999518076252}, {'SupplierName': 'shakespeare martineau llp', 'Region': 'Europe', 'Country': 'Denmark', 'Function': 'Applications Development', 'AvgCost': 50, 'Rating': 90, 'AverageDeliveryTime': 110, 'NumberofEscalations': 495, 'Year': 2017, 'Resources': 9000, 'Cost': 999.999518076252}, {'SupplierName': 'the hearing clinic (uk) limited', 'Region': 'North America', 'Country': 'Caribbean', 'Function': 'Insurance', 'AvgCost': 50, 'Rating': 90, 'AverageDeliveryTime': 110, 'NumberofEscalations': 495, 'Year': 2020, 'Resources': 9000, 'Cost': 999.999518076252}, {'SupplierName': 'talent & beyond', 'Region': 'Central America', 'Country': 'Nicaragua', 'Function': 'Finance', 'AvgCost': 50, 'Rating': 90, 'AverageDeliveryTime': 120, 'NumberofEscalations': 495, 'Year': 2019, 'Resources': 9000, 'Cost': 999.999036152504}, {'SupplierName': 'tidy numbers accountancy services', 'Region': 'Caribbean', 'Country': 'Dominican Republic', 'Function': 'IT & Infrastructure', 'AvgCost': 50, 'Rating': 90, 'AverageDeliveryTime': 120, 'NumberofEscalations': 495, 'Year': 2020, 'Resources': 9000, 'Cost': 999.999036152504}, {'SupplierName': 'micronizing company uk ltd', 'Region': 'Asia', 'Country': 'Nepal', 'Function': 'Applications Development', 'AvgCost': 50, 'Rating': 90, 'AverageDeliveryTime': 120, 'NumberofEscalations': 495, 'Year': 2022, 'Resources': 9000, 'Cost': 999.999036152504}, {'SupplierName': 'indian ocean hotel', 'Region': 'Oceania', 'Country': 'Samoa', 'Function': 'Insurance', 'AvgCost': 50, 'Rating': 90, 'AverageDeliveryTime': 150, 'NumberofEscalations': 495, 'Year': 2022, 'Resources': 9000, 'Cost': 999.99759038126}, {'SupplierName': 'mabells petroleum advisors', 'Region': 'South America', 'Country': 'Bolivia', 'Function': 'IT & Infrastructure', 'AvgCost': 50, 'Rating': 90, 'AverageDeliveryTime': 160, 'NumberofEscalations': 495, 'Year': 2022, 'Resources': 9000, 'Cost': 999.997108457512}]\n"
     ]
    }
   ],
   "source": [
    "print(Sorted_Content[0:10])"
   ]
  },
  {
   "cell_type": "code",
   "execution_count": 60,
   "id": "ce69b115",
   "metadata": {},
   "outputs": [
    {
     "data": {
      "text/plain": [
       "[{'SupplierName': 'Infosys',\n",
       "  'Region': 'Asia',\n",
       "  'Country': 'Japan',\n",
       "  'Function': 'Applications Development',\n",
       "  'AvgCost': 50,\n",
       "  'Rating': 60,\n",
       "  'AverageDeliveryTime': 890,\n",
       "  'NumberofEscalations': 375,\n",
       "  'Year': 2018,\n",
       "  'Resources': 9000,\n",
       "  'Cost': 999.0983534856828},\n",
       " {'SupplierName': 'Infosys',\n",
       "  'Region': 'Oceania',\n",
       "  'Country': 'Christmas Island',\n",
       "  'Function': 'Marketing',\n",
       "  'AvgCost': 200,\n",
       "  'Rating': 50,\n",
       "  'AverageDeliveryTime': 710,\n",
       "  'NumberofEscalations': 310,\n",
       "  'Year': 2014,\n",
       "  'Resources': 9000,\n",
       "  'Cost': 998.6398038450952},\n",
       " {'SupplierName': 'Infosys',\n",
       "  'Region': 'Europe',\n",
       "  'Country': 'Croatia',\n",
       "  'Function': 'HR',\n",
       "  'AvgCost': 300,\n",
       "  'Rating': 60,\n",
       "  'AverageDeliveryTime': 250,\n",
       "  'NumberofEscalations': 270,\n",
       "  'Year': 2021,\n",
       "  'Resources': 8000,\n",
       "  'Cost': 873.9611179830816},\n",
       " {'SupplierName': 'Infosys',\n",
       "  'Region': 'North America',\n",
       "  'Country': 'United States',\n",
       "  'Function': 'HR',\n",
       "  'AvgCost': 400,\n",
       "  'Rating': 10,\n",
       "  'AverageDeliveryTime': 160,\n",
       "  'NumberofEscalations': 180,\n",
       "  'Year': 2020,\n",
       "  'Resources': 8000,\n",
       "  'Cost': 873.278748984956},\n",
       " {'SupplierName': 'Infosys',\n",
       "  'Region': 'Caribbean',\n",
       "  'Country': 'Netherlands Antilles',\n",
       "  'Function': 'IT & Infrastructure',\n",
       "  'AvgCost': 400,\n",
       "  'Rating': 80,\n",
       "  'AverageDeliveryTime': 220,\n",
       "  'NumberofEscalations': 70,\n",
       "  'Year': 2016,\n",
       "  'Resources': 8000,\n",
       "  'Cost': 872.6055238725202},\n",
       " {'SupplierName': 'Infosys',\n",
       "  'Region': 'Central America',\n",
       "  'Country': 'Honduras',\n",
       "  'Function': 'Finance',\n",
       "  'AvgCost': 250,\n",
       "  'Rating': 50,\n",
       "  'AverageDeliveryTime': 390,\n",
       "  'NumberofEscalations': 205,\n",
       "  'Year': 2022,\n",
       "  'Resources': 5000,\n",
       "  'Cost': 500.197622799732},\n",
       " {'SupplierName': 'Infosys',\n",
       "  'Region': 'Oceania',\n",
       "  'Country': 'Pitcairn Islands',\n",
       "  'Function': 'Software',\n",
       "  'AvgCost': 250,\n",
       "  'Rating': 30,\n",
       "  'AverageDeliveryTime': 870,\n",
       "  'NumberofEscalations': 345,\n",
       "  'Year': 2015,\n",
       "  'Resources': 4000,\n",
       "  'Cost': 376.6805275937415},\n",
       " {'SupplierName': 'Infosys',\n",
       "  'Region': 'Oceania',\n",
       "  'Country': 'Kiribati',\n",
       "  'Function': 'Consulting',\n",
       "  'AvgCost': 300,\n",
       "  'Rating': 30,\n",
       "  'AverageDeliveryTime': 330,\n",
       "  'NumberofEscalations': 240,\n",
       "  'Year': 2019,\n",
       "  'Resources': 4000,\n",
       "  'Cost': 375.981165481216},\n",
       " {'SupplierName': 'Infosys',\n",
       "  'Region': 'Asia',\n",
       "  'Country': 'China',\n",
       "  'Function': 'IT & Infrastructure',\n",
       "  'AvgCost': 50,\n",
       "  'Rating': 50,\n",
       "  'AverageDeliveryTime': 960,\n",
       "  'NumberofEscalations': 150,\n",
       "  'Year': 2017,\n",
       "  'Resources': 1000,\n",
       "  'Cost': -10305254.382923853}]"
      ]
     },
     "execution_count": 60,
     "metadata": {},
     "output_type": "execute_result"
    }
   ],
   "source": [
    "CompanyName = 'Infosys'\n",
    "AnalysisData = []\n",
    "for i in Sorted_Content:\n",
    "    if i['SupplierName'] == CompanyName :\n",
    "        AnalysisData.append(i)\n",
    "        \n",
    "AnalysisData"
   ]
  },
  {
   "cell_type": "code",
   "execution_count": 63,
   "id": "6ae9f593",
   "metadata": {},
   "outputs": [
    {
     "data": {
      "text/plain": [
       "[(498.7517036668654, 2018),\n",
       " (498.75168156826925, 2014),\n",
       " (498.74567300631037, 2021),\n",
       " (498.7456401213279, 2020),\n",
       " (498.7456076770109, 2016),\n",
       " (498.7276604558635, 2022),\n",
       " (498.72170787371687, 2015),\n",
       " (498.7216741697959, 2019),\n",
       " (2.068873099342969, 2017)]"
      ]
     },
     "execution_count": 63,
     "metadata": {},
     "output_type": "execute_result"
    }
   ],
   "source": [
    "Cost = [(NewValue(i['Cost']), i['Year']) for i in AnalysisData]\n",
    "Cost"
   ]
  },
  {
   "cell_type": "code",
   "execution_count": 64,
   "id": "69786c7b",
   "metadata": {},
   "outputs": [
    {
     "data": {
      "text/plain": [
       "[(498.75168156826925, 2014),\n",
       " (498.72170787371687, 2015),\n",
       " (498.7456076770109, 2016),\n",
       " (2.068873099342969, 2017),\n",
       " (498.7517036668654, 2018),\n",
       " (498.7216741697959, 2019),\n",
       " (498.7456401213279, 2020),\n",
       " (498.74567300631037, 2021),\n",
       " (498.7276604558635, 2022)]"
      ]
     },
     "execution_count": 64,
     "metadata": {},
     "output_type": "execute_result"
    }
   ],
   "source": [
    "Cost = sorted(Cost, \n",
    "       key=lambda x: x[1])\n",
    "Cost"
   ]
  },
  {
   "cell_type": "code",
   "execution_count": null,
   "id": "28b201c9",
   "metadata": {},
   "outputs": [],
   "source": []
  }
 ],
 "metadata": {
  "kernelspec": {
   "display_name": "Python 3 (ipykernel)",
   "language": "python",
   "name": "python3"
  },
  "language_info": {
   "codemirror_mode": {
    "name": "ipython",
    "version": 3
   },
   "file_extension": ".py",
   "mimetype": "text/x-python",
   "name": "python",
   "nbconvert_exporter": "python",
   "pygments_lexer": "ipython3",
   "version": "3.9.13"
  }
 },
 "nbformat": 4,
 "nbformat_minor": 5
}
