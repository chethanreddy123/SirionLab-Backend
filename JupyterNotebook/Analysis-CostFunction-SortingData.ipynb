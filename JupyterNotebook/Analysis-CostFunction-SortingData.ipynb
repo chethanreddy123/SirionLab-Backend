{
 "cells": [
  {
   "cell_type": "markdown",
   "id": "b73988a3",
   "metadata": {},
   "source": [
    "## Let's Load the Data"
   ]
  },
  {
   "cell_type": "code",
   "execution_count": 3,
   "id": "eb38204c",
   "metadata": {},
   "outputs": [
    {
     "name": "stdout",
     "output_type": "stream",
     "text": [
      "The total time to load data is:(sec) 0.18106651306152344\n"
     ]
    }
   ],
   "source": [
    "import pickle\n",
    "import time \n",
    "\n",
    "start = time.time()\n",
    "\n",
    "Loaded_Content = []\n",
    "\n",
    "for i in range(1,7):\n",
    "    with open('Final_Data_of_Supplier{}.pkl'.format(i), 'rb') as pickle_file:\n",
    "        content = pickle.load(pickle_file)\n",
    "        Loaded_Content.extend(content)\n",
    "    \n",
    "end = time.time()\n",
    "print(\"The total time to load data is:(sec)\",end-start)"
   ]
  },
  {
   "cell_type": "code",
   "execution_count": 4,
   "id": "32ff05ad",
   "metadata": {},
   "outputs": [
    {
     "name": "stdout",
     "output_type": "stream",
     "text": [
      "771972\n"
     ]
    }
   ],
   "source": [
    "print(\"Total Lenght: \", len(Loaded_Content))\n",
    "print(Loaded_Content[0:10])"
   ]
  },
  {
   "cell_type": "code",
   "execution_count": null,
   "id": "bd6ec197",
   "metadata": {},
   "outputs": [],
   "source": []
  }
 ],
 "metadata": {
  "kernelspec": {
   "display_name": "Python 3 (ipykernel)",
   "language": "python",
   "name": "python3"
  },
  "language_info": {
   "codemirror_mode": {
    "name": "ipython",
    "version": 3
   },
   "file_extension": ".py",
   "mimetype": "text/x-python",
   "name": "python",
   "nbconvert_exporter": "python",
   "pygments_lexer": "ipython3",
   "version": "3.9.13"
  }
 },
 "nbformat": 4,
 "nbformat_minor": 5
}
